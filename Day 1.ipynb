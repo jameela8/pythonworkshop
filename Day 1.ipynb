{
 "cells": [
  {
   "cell_type": "code",
   "execution_count": null,
   "metadata": {},
   "outputs": [],
   "source": [
    "a=10\n",
    "type(a)"
   ]
  },
  {
   "cell_type": "code",
   "execution_count": null,
   "metadata": {},
   "outputs": [],
   "source": [
    "a=\"string\"\n",
    "b=27\n",
    "type(a)"
   ]
  },
  {
   "cell_type": "code",
   "execution_count": null,
   "metadata": {},
   "outputs": [],
   "source": [
    "a='hello'\n",
    "b=int(19)\n",
    "type(b)"
   ]
  },
  {
   "cell_type": "markdown",
   "metadata": {},
   "source": [
    "# History of Python\n",
    "## Monty 'python' fly circus\n",
    "+ In 1989 started Implementation of python with version 0.9\n",
    "+ In 1991 Implemented 0.9 version\n",
    "+ In 1994 Implemented 1.0 version with features of lambda,map,filter,reduce\n",
    "+ In 2000 Implemented 2.0 version  with features of datastructures Like List,Tuple,Dictionary,Sets..etc\n",
    "+ In 2008 Republised 3.0 version with features large no of libraries,grabagecollection And Fastworking\n",
    "\n",
    "# Features of Python\n",
    "+ Easy to Learn & Easy to write\n",
    "+ crossplateform\n",
    "+ Scalable\n",
    "+ Portable\n"
   ]
  },
  {
   "cell_type": "code",
   "execution_count": 24,
   "metadata": {},
   "outputs": [
    {
     "data": {
      "text/plain": [
       "['False',\n",
       " 'None',\n",
       " 'True',\n",
       " 'and',\n",
       " 'as',\n",
       " 'assert',\n",
       " 'async',\n",
       " 'await',\n",
       " 'break',\n",
       " 'class',\n",
       " 'continue',\n",
       " 'def',\n",
       " 'del',\n",
       " 'elif',\n",
       " 'else',\n",
       " 'except',\n",
       " 'finally',\n",
       " 'for',\n",
       " 'from',\n",
       " 'global',\n",
       " 'if',\n",
       " 'import',\n",
       " 'in',\n",
       " 'is',\n",
       " 'lambda',\n",
       " 'nonlocal',\n",
       " 'not',\n",
       " 'or',\n",
       " 'pass',\n",
       " 'raise',\n",
       " 'return',\n",
       " 'try',\n",
       " 'while',\n",
       " 'with',\n",
       " 'yield']"
      ]
     },
     "execution_count": 24,
     "metadata": {},
     "output_type": "execute_result"
    }
   ],
   "source": [
    "# Keywords or Reserved words in python\n",
    "import keyword\n",
    "dir(keyword)\n",
    "keyword.kwlist\n"
   ]
  },
  {
   "cell_type": "markdown",
   "metadata": {},
   "source": [
    "help()"
   ]
  },
  {
   "cell_type": "markdown",
   "metadata": {},
   "source": [
    "# Operators\n",
    "+ Arithmetic Operator (+,-,*,/,%,**,//)\n",
    "+ Relational or Comparision Operator(>,<,<=,>=,==,!=)\n",
    "+ Assigment Operator(+=,-=,*=,/=,**=,//=)\n",
    "+ Logical Operatior(and ,or ,not)\n",
    "+ Bitwise Operator(&,|,^,>>,<<)\n",
    "+ Membership Operator(in, not in)\n",
    "+ Identity Operator(is, is not)"
   ]
  },
  {
   "cell_type": "code",
   "execution_count": 4,
   "metadata": {},
   "outputs": [
    {
     "name": "stdout",
     "output_type": "stream",
     "text": [
      "40\n",
      "-20\n",
      "300\n",
      "0.3333333333333333\n",
      "10\n",
      "1000000000000000000000000000000\n",
      "1000000000000000000000000000000\n",
      "0\n"
     ]
    }
   ],
   "source": [
    "# Arithmetic Operator\n",
    "\n",
    "a=10\n",
    "b=30\n",
    "print(a+b)\n",
    "print(a-b)\n",
    "print(a*b)\n",
    "print(a/b)\n",
    "print(a%b)\n",
    "print(a**b)\n",
    "print(pow(10,30))\n",
    "print(a//b)"
   ]
  },
  {
   "cell_type": "code",
   "execution_count": 5,
   "metadata": {},
   "outputs": [
    {
     "name": "stdout",
     "output_type": "stream",
     "text": [
      "True\n",
      "False\n",
      "False\n",
      "True\n"
     ]
    }
   ],
   "source": [
    "# Relational Operators\n",
    "\n",
    "x=100\n",
    "y=30\n",
    "print(x>y)\n",
    "print(x<y)\n",
    "print(x==y)\n",
    "print(x!=y)"
   ]
  },
  {
   "cell_type": "code",
   "execution_count": 6,
   "metadata": {},
   "outputs": [
    {
     "name": "stdout",
     "output_type": "stream",
     "text": [
      "-512\n"
     ]
    }
   ],
   "source": [
    "# Assigment Operators\n",
    "\n",
    "p=10\n",
    "p+=30\n",
    "p-=45\n",
    "p*=34\n",
    "p//=23\n",
    "p**=3\n",
    "print(p)"
   ]
  },
  {
   "cell_type": "code",
   "execution_count": 7,
   "metadata": {},
   "outputs": [
    {
     "name": "stdout",
     "output_type": "stream",
     "text": [
      "False\n",
      "False\n",
      "False\n",
      "True\n"
     ]
    }
   ],
   "source": [
    "# Logical Operators\n",
    "\n",
    "#And\n",
    "print(False and False)\n",
    "print(True and False)\n",
    "print(False and True)\n",
    "print(True and True)"
   ]
  },
  {
   "cell_type": "code",
   "execution_count": 8,
   "metadata": {},
   "outputs": [
    {
     "name": "stdout",
     "output_type": "stream",
     "text": [
      "False\n",
      "True\n",
      "True\n",
      "True\n"
     ]
    }
   ],
   "source": [
    "#Or\n",
    "print(False or False)\n",
    "print(True or False)\n",
    "print(False or True)\n",
    "print(True or True)"
   ]
  },
  {
   "cell_type": "code",
   "execution_count": 9,
   "metadata": {},
   "outputs": [
    {
     "name": "stdout",
     "output_type": "stream",
     "text": [
      "True\n",
      "True\n",
      "True\n",
      "False\n"
     ]
    }
   ],
   "source": [
    "#not\n",
    "print(not(False and False))\n",
    "print(not(True and False))\n",
    "print(not(False and True))\n",
    "print(not(True and True))\n"
   ]
  },
  {
   "cell_type": "code",
   "execution_count": 10,
   "metadata": {},
   "outputs": [
    {
     "name": "stdout",
     "output_type": "stream",
     "text": [
      "True\n",
      "False\n",
      "False\n",
      "False\n"
     ]
    }
   ],
   "source": [
    "#not\n",
    "print(not(False or False))\n",
    "print(not(True or False))\n",
    "print(not(False or True))\n",
    "print(not(True or True))\n"
   ]
  },
  {
   "cell_type": "code",
   "execution_count": 11,
   "metadata": {},
   "outputs": [
    {
     "name": "stdout",
     "output_type": "stream",
     "text": [
      "False\n",
      "True\n",
      "False\n"
     ]
    }
   ],
   "source": [
    "print(23>87 and 23>64)\n",
    "print(34<45 and 24<78)\n",
    "print(45==34 and 54!=54)\n",
    "\n"
   ]
  },
  {
   "cell_type": "code",
   "execution_count": 13,
   "metadata": {},
   "outputs": [
    {
     "name": "stdout",
     "output_type": "stream",
     "text": [
      "False\n",
      "True\n",
      "False\n",
      "False\n"
     ]
    }
   ],
   "source": [
    "print(23>87 or 23>64)\n",
    "print(34<45 or 24<78)\n",
    "print(45==34 or 54!=54)\n",
    "print(not(10==10 and 10!=3))"
   ]
  },
  {
   "cell_type": "code",
   "execution_count": 19,
   "metadata": {},
   "outputs": [
    {
     "name": "stdout",
     "output_type": "stream",
     "text": [
      "2\n",
      "15\n",
      "1\n"
     ]
    }
   ],
   "source": [
    "# Bit wise Operators\n",
    "\n",
    "print(2&2)\n",
    "print(10|5)\n",
    "print(5^4)"
   ]
  },
  {
   "cell_type": "code",
   "execution_count": 18,
   "metadata": {},
   "outputs": [
    {
     "data": {
      "text/plain": [
       "'0b1010001101010000101010110101101010111110000100100110111000000010010011110000011101111100010011100110000010011101110011100100'"
      ]
     },
     "execution_count": 18,
     "metadata": {},
     "output_type": "execute_result"
    }
   ],
   "source": [
    "bin(13567688908939084765421609753256778980)"
   ]
  },
  {
   "cell_type": "code",
   "execution_count": 20,
   "metadata": {},
   "outputs": [
    {
     "data": {
      "text/plain": [
       "93"
      ]
     },
     "execution_count": 20,
     "metadata": {},
     "output_type": "execute_result"
    }
   ],
   "source": [
    "int(\"10110\",3)"
   ]
  },
  {
   "cell_type": "code",
   "execution_count": 21,
   "metadata": {},
   "outputs": [
    {
     "data": {
      "text/plain": [
       "'8'"
      ]
     },
     "execution_count": 21,
     "metadata": {},
     "output_type": "execute_result"
    }
   ],
   "source": [
    "ord('a')\n",
    "chr(56)"
   ]
  },
  {
   "cell_type": "code",
   "execution_count": 22,
   "metadata": {},
   "outputs": [
    {
     "name": "stdout",
     "output_type": "stream",
     "text": [
      "True\n",
      "True\n"
     ]
    }
   ],
   "source": [
    "#Membership operator\n",
    "a=\"Welcome to python workshop\"\n",
    "print('to' in a)\n",
    "print('hello' not in a)"
   ]
  },
  {
   "cell_type": "code",
   "execution_count": 23,
   "metadata": {},
   "outputs": [
    {
     "name": "stdout",
     "output_type": "stream",
     "text": [
      "False\n",
      "True\n"
     ]
    }
   ],
   "source": [
    "#Identity operator\n",
    "x=100\n",
    "y=1000\n",
    "print(x is y)\n",
    "print(x is not y)"
   ]
  },
  {
   "cell_type": "code",
   "execution_count": 25,
   "metadata": {},
   "outputs": [
    {
     "name": "stdout",
     "output_type": "stream",
     "text": [
      "10\n",
      "10\n",
      "10\n"
     ]
    }
   ],
   "source": [
    "a=b=c=10\n",
    "print(a)\n",
    "print(b)\n",
    "print(c)"
   ]
  },
  {
   "cell_type": "code",
   "execution_count": 27,
   "metadata": {},
   "outputs": [
    {
     "name": "stdout",
     "output_type": "stream",
     "text": [
      "10\n",
      "49\n",
      "67\n"
     ]
    }
   ],
   "source": [
    "a,b,c=10,49,67\n",
    "print(a)\n",
    "print(b)\n",
    "print(c)"
   ]
  },
  {
   "cell_type": "code",
   "execution_count": 8,
   "metadata": {},
   "outputs": [
    {
     "name": "stdout",
     "output_type": "stream",
     "text": [
      "Addition of two numbers is 110\n",
      "Addition of a + b = 110\n",
      "Addition of 10 + 100 = 110\n"
     ]
    }
   ],
   "source": [
    "# Static Variable\n",
    "\n",
    "a=10\n",
    "b=100\n",
    "print(\"Addition of two numbers is\",a+b)\n",
    "print('Addition of','a','+','b','=',a+b)\n",
    "print('Addition of %d + %d = %d'%(a,b,a+b))\n"
   ]
  },
  {
   "cell_type": "code",
   "execution_count": 12,
   "metadata": {},
   "outputs": [
    {
     "name": "stdout",
     "output_type": "stream",
     "text": [
      "Enter the x value:-3\n",
      "Enter the y value:-4\n",
      "Addition of 7\n"
     ]
    }
   ],
   "source": [
    "# Dynamic Values\n",
    "x=int(input('Enter the x value:-'))\n",
    "y=int(input('Enter the y value:-'))\n",
    "print('Addition of',x+y)\n",
    "#print('Addition %d + %d = %d'%(x,y,x+y))"
   ]
  },
  {
   "cell_type": "markdown",
   "metadata": {},
   "source": [
    "# Expression \n",
    "\n",
    "1. Take 5 inputs from user\n",
    "2. to perform operation \n",
    "3. store result in variable\n",
    "4. print that final result"
   ]
  },
  {
   "cell_type": "code",
   "execution_count": 2,
   "metadata": {},
   "outputs": [
    {
     "name": "stdout",
     "output_type": "stream",
     "text": [
      "Enter the a value:-10\n",
      "Enter the b value:-34\n",
      "Enter the c value:-23\n",
      "Enter the d value:-45\n",
      "Enter the e value:-67\n",
      "-55.67647058823529\n"
     ]
    }
   ],
   "source": [
    "a=int(input('Enter the a value:-'))\n",
    "b=int(input('Enter the b value:-'))\n",
    "c=int(input('Enter the c value:-'))\n",
    "d=int(input('Enter the d value:-'))\n",
    "e=int(input('Enter the e value:-'))\n",
    "f=a+c-d*e/b\n",
    "print(f)\n"
   ]
  },
  {
   "cell_type": "code",
   "execution_count": 8,
   "metadata": {},
   "outputs": [
    {
     "name": "stdout",
     "output_type": "stream",
     "text": [
      "Enter the Value4\n",
      "4 is Even Number\n"
     ]
    }
   ],
   "source": [
    "n1=int(input('Enter the Value'))\n",
    "if (n1%2==0):\n",
    "    print(n1,'is Even Number')\n",
    "else:\n",
    "    print(n1,'is Odd Number')"
   ]
  },
  {
   "cell_type": "code",
   "execution_count": 2,
   "metadata": {},
   "outputs": [
    {
     "name": "stdout",
     "output_type": "stream",
     "text": [
      "Enter the Value3\n",
      "3 is Wednesday\n"
     ]
    }
   ],
   "source": [
    "a=int(input('Enter the Value'))\n",
    "if a==0:\n",
    "    print(a,'is Sunday')\n",
    "elif a==1:\n",
    "    print(a,'is Monday')\n",
    "elif a==2:\n",
    "    print(a,'is Tuseday')\n",
    "elif a==3:\n",
    "    print(a,'is Wednesday')\n",
    "elif a==4:\n",
    "    print(a,'is Thursday')\n",
    "elif a==5:\n",
    "    print(a,'is Friday')\n",
    "else:\n",
    "    print(a,'is Invalid day')"
   ]
  },
  {
   "cell_type": "code",
   "execution_count": 4,
   "metadata": {},
   "outputs": [
    {
     "ename": "NameError",
     "evalue": "name 'Password' is not defined",
     "output_type": "error",
     "traceback": [
      "\u001b[1;31m---------------------------------------------------------------------------\u001b[0m",
      "\u001b[1;31mNameError\u001b[0m                                 Traceback (most recent call last)",
      "\u001b[1;32m<ipython-input-4-11abef13ef62>\u001b[0m in \u001b[0;36m<module>\u001b[1;34m\u001b[0m\n\u001b[0;32m      1\u001b[0m \u001b[0mUsername\u001b[0m\u001b[1;33m=\u001b[0m\u001b[1;34m'Jameela'\u001b[0m\u001b[1;33m\u001b[0m\u001b[1;33m\u001b[0m\u001b[0m\n\u001b[0;32m      2\u001b[0m \u001b[0mPasword\u001b[0m\u001b[1;33m=\u001b[0m\u001b[1;34m'Jameela'\u001b[0m\u001b[1;33m\u001b[0m\u001b[1;33m\u001b[0m\u001b[0m\n\u001b[1;32m----> 3\u001b[1;33m \u001b[1;32mif\u001b[0m \u001b[0mUsername\u001b[0m \u001b[1;33m==\u001b[0m \u001b[0mPassword\u001b[0m\u001b[1;33m:\u001b[0m\u001b[1;33m\u001b[0m\u001b[1;33m\u001b[0m\u001b[0m\n\u001b[0m\u001b[0;32m      4\u001b[0m     \u001b[0mprint\u001b[0m\u001b[1;33m(\u001b[0m\u001b[1;34m'Welcome to current Username'\u001b[0m\u001b[1;33m)\u001b[0m\u001b[1;33m\u001b[0m\u001b[1;33m\u001b[0m\u001b[0m\n\u001b[0;32m      5\u001b[0m \u001b[1;32melse\u001b[0m\u001b[1;33m:\u001b[0m\u001b[1;33m\u001b[0m\u001b[1;33m\u001b[0m\u001b[0m\n",
      "\u001b[1;31mNameError\u001b[0m: name 'Password' is not defined"
     ]
    }
   ],
   "source": [
    "Username='Jameela'\n",
    "Pasword='Jameela'\n",
    "if Username == Password:\n",
    "    print('Welcome to current Username')\n",
    "else:\n",
    "    print('invalid Username or password')"
   ]
  },
  {
   "cell_type": "code",
   "execution_count": null,
   "metadata": {},
   "outputs": [],
   "source": []
  },
  {
   "cell_type": "code",
   "execution_count": null,
   "metadata": {},
   "outputs": [],
   "source": []
  }
 ],
 "metadata": {
  "kernelspec": {
   "display_name": "Python 3",
   "language": "python",
   "name": "python3"
  },
  "language_info": {
   "codemirror_mode": {
    "name": "ipython",
    "version": 3
   },
   "file_extension": ".py",
   "mimetype": "text/x-python",
   "name": "python",
   "nbconvert_exporter": "python",
   "pygments_lexer": "ipython3",
   "version": "3.8.5"
  }
 },
 "nbformat": 4,
 "nbformat_minor": 4
}
