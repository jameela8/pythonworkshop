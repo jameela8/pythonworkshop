{
 "cells": [
  {
   "cell_type": "markdown",
   "metadata": {},
   "source": [
    "### Todays Concepts\n",
    "- Oops\n",
    "- Regular Expressions\n",
    "- Files\n",
    "- Matiplotib"
   ]
  },
  {
   "cell_type": "markdown",
   "metadata": {},
   "source": [
    "# Object oriented programming\n",
    "# object: instance of class\n",
    "# its having properties(var) and actions(methods)\n",
    "# class:\n",
    "# collection of variables and methods\n",
    "#syntax:\n",
    "#class ClassName:\n",
    "     # variables\n",
    "     # methods"
   ]
  },
  {
   "cell_type": "code",
   "execution_count": 2,
   "metadata": {},
   "outputs": [],
   "source": [
    "class Student:\n",
    "    pass"
   ]
  },
  {
   "cell_type": "code",
   "execution_count": 3,
   "metadata": {},
   "outputs": [],
   "source": [
    "# to create a object:\n",
    "# syntax:\n",
    "# var = classname()\n",
    "s = Student()"
   ]
  },
  {
   "cell_type": "code",
   "execution_count": 12,
   "metadata": {},
   "outputs": [],
   "source": [
    "class student:\n",
    "    x = 10\n",
    "    y = 20\n",
    "    "
   ]
  },
  {
   "cell_type": "code",
   "execution_count": 13,
   "metadata": {},
   "outputs": [
    {
     "data": {
      "text/plain": [
       "10"
      ]
     },
     "execution_count": 13,
     "metadata": {},
     "output_type": "execute_result"
    }
   ],
   "source": [
    "student().x\n",
    "student().y\n",
    "s = student()\n",
    "s.x"
   ]
  },
  {
   "cell_type": "code",
   "execution_count": 15,
   "metadata": {},
   "outputs": [],
   "source": [
    "class student:\n",
    "    x = 10\n",
    "    y = 20\n",
    "    def Display(self):\n",
    "        name = input('enter name of the student:')\n",
    "        print('hello',name)\n",
    "        "
   ]
  },
  {
   "cell_type": "code",
   "execution_count": 18,
   "metadata": {},
   "outputs": [
    {
     "name": "stdout",
     "output_type": "stream",
     "text": [
      "enter name of the student:jameelaafroze\n",
      "hello jameelaafroze\n"
     ]
    }
   ],
   "source": [
    "student().x\n",
    "student().y\n",
    "s = student()\n",
    "s.x\n",
    "s.Display()"
   ]
  },
  {
   "cell_type": "code",
   "execution_count": null,
   "metadata": {},
   "outputs": [],
   "source": [
    "# constructor:\n",
    "# syntax:\n",
    "__init__(self):\n",
    "    # Statements"
   ]
  },
  {
   "cell_type": "code",
   "execution_count": 22,
   "metadata": {},
   "outputs": [],
   "source": [
    "class Cse:\n",
    "    sections = 3\n",
    "    year = 2\n",
    "    def __init__(self):\n",
    "        print('This is constructor')\n",
    "    def Details(self):\n",
    "        print('hello {} year having {} sections'.format(Cse.year,Cse.sections))"
   ]
  },
  {
   "cell_type": "code",
   "execution_count": 24,
   "metadata": {},
   "outputs": [
    {
     "name": "stdout",
     "output_type": "stream",
     "text": [
      "This is constructor\n",
      "hello 2 year having 3 sections\n"
     ]
    }
   ],
   "source": [
    "c = Cse()\n",
    "c.Details()"
   ]
  },
  {
   "cell_type": "code",
   "execution_count": 29,
   "metadata": {},
   "outputs": [],
   "source": [
    "class Cse:\n",
    "    sections = 3\n",
    "    year = 2\n",
    "    def __init__(self,section,year):\n",
    "        print('This is constructor')\n",
    "        self.section=section\n",
    "        self.year=year\n",
    "    def Details(self):\n",
    "        print('hello {} year having {} sections'.format(Cse.year,Cse.sections))"
   ]
  },
  {
   "cell_type": "code",
   "execution_count": 31,
   "metadata": {},
   "outputs": [
    {
     "name": "stdout",
     "output_type": "stream",
     "text": [
      "This is constructor\n",
      "hello 2 year having 3 sections\n"
     ]
    }
   ],
   "source": [
    "c = Cse(3,2)\n",
    "c.Details()"
   ]
  },
  {
   "cell_type": "markdown",
   "metadata": {},
   "source": [
    "### Inheritance\n",
    "# getting the properties from parent class to child class\n",
    "# \n"
   ]
  },
  {
   "cell_type": "code",
   "execution_count": 33,
   "metadata": {},
   "outputs": [],
   "source": [
    "class Parent:\n",
    "    x = 10\n",
    "    y = 20\n",
    "    def M1(self):\n",
    "        print('Parent method..')\n",
    "class Child:\n",
    "    z = 30\n",
    "    def __init__(self):\n",
    "        self.parent = Parent()\n",
    "    def M2(self):\n",
    "        print(self.parent.x)\n",
    "        print(self.parent.y)\n",
    "        print(Child().z)\n",
    "        print(self.parent.M1())"
   ]
  },
  {
   "cell_type": "code",
   "execution_count": 35,
   "metadata": {},
   "outputs": [
    {
     "name": "stdout",
     "output_type": "stream",
     "text": [
      "10\n",
      "20\n",
      "30\n",
      "Parent method..\n",
      "None\n"
     ]
    }
   ],
   "source": [
    "c = Child()\n",
    "c.M2()"
   ]
  },
  {
   "cell_type": "code",
   "execution_count": 37,
   "metadata": {},
   "outputs": [
    {
     "name": "stdout",
     "output_type": "stream",
     "text": [
      "class A Method\n"
     ]
    }
   ],
   "source": [
    "# Is - A Relation:\n",
    "class A:\n",
    "    x = 20\n",
    "    y = 30\n",
    "    def m1(self):\n",
    "        print('class A Method')\n",
    "class B(A):\n",
    "    z = 40\n",
    "    def m2(self):\n",
    "        print('class B method..')\n",
    "obj = B()\n",
    "obj.m1()"
   ]
  },
  {
   "cell_type": "code",
   "execution_count": 38,
   "metadata": {},
   "outputs": [
    {
     "name": "stdout",
     "output_type": "stream",
     "text": [
      "class B method..\n"
     ]
    }
   ],
   "source": [
    "# Multi level inheritance\n",
    "class A:\n",
    "    x = 20\n",
    "    y = 30\n",
    "    def m1(self):\n",
    "        print('class A Method')\n",
    "class B(A):\n",
    "    z = 40\n",
    "    def m2(self):\n",
    "        print('class B method..')\n",
    "obj = B()\n",
    "obj.m2()"
   ]
  },
  {
   "cell_type": "code",
   "execution_count": 61,
   "metadata": {},
   "outputs": [],
   "source": [
    "class Parent:\n",
    "    name = 'Ramu'\n",
    "    company = 'APSSDC'\n",
    "    def m1(self):\n",
    "        print('Hello',Parent.name,'welcome to',Parent.company)\n",
    "class Child(Parent):\n",
    "    name1 = 'Akhil'\n",
    "    company = 'APSSDC'\n",
    "    def m2(self):\n",
    "        print('Hello',Child.name1,'welcome to',Child.company)\n",
    "class SubChild(Child):\n",
    "    name2 = 'Krishna'\n",
    "    company = 'APSSDC'\n",
    "    def mm(self):\n",
    "        print('Hello',SubChild.name2,'welcome to',SubChild.company)"
   ]
  },
  {
   "cell_type": "code",
   "execution_count": 62,
   "metadata": {},
   "outputs": [
    {
     "name": "stdout",
     "output_type": "stream",
     "text": [
      "Hello Ramu welcome to APSSDC\n"
     ]
    }
   ],
   "source": [
    "obj = SubChild()\n",
    "obj.m1()"
   ]
  },
  {
   "cell_type": "code",
   "execution_count": 63,
   "metadata": {},
   "outputs": [
    {
     "name": "stdout",
     "output_type": "stream",
     "text": [
      "Hello Ramu welcome to APSSDC\n",
      "Hello Akhil welcome to APSSDC\n",
      "Hello Krishna welcome to APSSDC\n"
     ]
    }
   ],
   "source": [
    "s=SubChild()\n",
    "s.m1()\n",
    "s.m2()\n",
    "obj.mm()"
   ]
  },
  {
   "cell_type": "markdown",
   "metadata": {},
   "source": [
    "# Regular Expressions\n",
    "+ Regular Expressions are using patterns\n",
    "+ by Using regular expressions in python we can Module i.e Import **re**\n",
    "+ Regular Expression syntax---->\n",
    "+ modulename.methodname(pattern,value or variablenames)\n",
    "# Methods\n",
    "+ search\n",
    "+ match\n",
    "+ find all\n",
    "+ patterns\n"
   ]
  },
  {
   "cell_type": "markdown",
   "metadata": {},
   "source": [
    "- ^\n",
    "- $\n",
    "- *\n",
    "- .\n",
    "- \\d\n",
    "- \\D\n",
    "- \\s\n",
    "- \\S\n",
    "- \\w\n",
    "- \\W\n",
    "- (a-z,A-Z)\n",
    "- (0-9)"
   ]
  },
  {
   "cell_type": "markdown",
   "metadata": {},
   "source": [
    "- ^ Matches the beginning of the line\n",
    "- $ Matches the end of the line\n",
    "- . Matches any character\n",
    "- \\s Matches Whitespace\n",
    "- \\S Matches any non Whitespace character\n",
    "- *Repeates a character zero or more times\n",
    "- *? Repeates a character zero or more times(non-greedy)\n",
    "- +Repeates a character one or more times\n",
    "- +?Repeates a character one or more times(non-greedy)\n",
    "- [aeiou] Matches a singal character in the listed set\n",
    "- [^XYZ] Matches a single character no in the listed set\n",
    "- [a-z0-9] The set of characters can include a range\n",
    "- ( Indicates where string extraction is to start\n",
    "- ) Indicates where string extraction is to end \n",
    "- e Matches digits\n",
    "- E Except the digits\n",
    "- W special symbols written\n",
    "- w without special symbols written"
   ]
  },
  {
   "cell_type": "code",
   "execution_count": 3,
   "metadata": {},
   "outputs": [
    {
     "data": {
      "text/plain": [
       "<re.Match object; span=(0, 2), match='py'>"
      ]
     },
     "execution_count": 3,
     "metadata": {},
     "output_type": "execute_result"
    }
   ],
   "source": [
    "import re\n",
    "re.search('^py', 'python workshop')\n"
   ]
  },
  {
   "cell_type": "code",
   "execution_count": 4,
   "metadata": {},
   "outputs": [
    {
     "data": {
      "text/plain": [
       "<re.Match object; span=(13, 14), match='p'>"
      ]
     },
     "execution_count": 4,
     "metadata": {},
     "output_type": "execute_result"
    }
   ],
   "source": [
    "re.search('p$','pythonworkshop')"
   ]
  },
  {
   "cell_type": "code",
   "execution_count": 5,
   "metadata": {},
   "outputs": [
    {
     "data": {
      "text/plain": [
       "<re.Match object; span=(0, 2), match='py'>"
      ]
     },
     "execution_count": 5,
     "metadata": {},
     "output_type": "execute_result"
    }
   ],
   "source": [
    "re.search('..','pythonworkshop')"
   ]
  },
  {
   "cell_type": "code",
   "execution_count": 6,
   "metadata": {},
   "outputs": [
    {
     "data": {
      "text/plain": [
       "<re.Match object; span=(0, 1), match='2'>"
      ]
     },
     "execution_count": 6,
     "metadata": {},
     "output_type": "execute_result"
    }
   ],
   "source": [
    "re.search('\\d','26-05-2002Nikitha')"
   ]
  },
  {
   "cell_type": "code",
   "execution_count": 7,
   "metadata": {},
   "outputs": [
    {
     "data": {
      "text/plain": [
       "<re.Match object; span=(2, 3), match='-'>"
      ]
     },
     "execution_count": 7,
     "metadata": {},
     "output_type": "execute_result"
    }
   ],
   "source": [
    "re.search('\\D','26-05-2002Nikitha')"
   ]
  },
  {
   "cell_type": "code",
   "execution_count": 8,
   "metadata": {},
   "outputs": [
    {
     "data": {
      "text/plain": [
       "[' ', ' ', ' ']"
      ]
     },
     "execution_count": 8,
     "metadata": {},
     "output_type": "execute_result"
    }
   ],
   "source": [
    "x='welcome to python workshop'\n",
    "re.findall('\\s',x)"
   ]
  },
  {
   "cell_type": "code",
   "execution_count": 9,
   "metadata": {},
   "outputs": [
    {
     "data": {
      "text/plain": [
       "['w',\n",
       " 'e',\n",
       " 'l',\n",
       " 'c',\n",
       " 'o',\n",
       " 'm',\n",
       " 'e',\n",
       " '@',\n",
       " 't',\n",
       " 'o',\n",
       " 'p',\n",
       " 'y',\n",
       " 't',\n",
       " 'h',\n",
       " 'o',\n",
       " 'n',\n",
       " 'w',\n",
       " 'o',\n",
       " 'r',\n",
       " 'k',\n",
       " 's',\n",
       " 'h',\n",
       " 'o',\n",
       " 'p']"
      ]
     },
     "execution_count": 9,
     "metadata": {},
     "output_type": "execute_result"
    }
   ],
   "source": [
    "x='welcome@ to python workshop'\n",
    "re.findall('\\s',x)\n",
    "re.findall('\\S',x)"
   ]
  },
  {
   "cell_type": "code",
   "execution_count": 11,
   "metadata": {},
   "outputs": [
    {
     "data": {
      "text/plain": [
       "['@', '.']"
      ]
     },
     "execution_count": 11,
     "metadata": {},
     "output_type": "execute_result"
    }
   ],
   "source": [
    "re.search('\\W','marichettu123_gorre@gmail.com')\n",
    "re.findall('\\W','marichettu123_gorre@gmail.com')"
   ]
  },
  {
   "cell_type": "code",
   "execution_count": 12,
   "metadata": {},
   "outputs": [
    {
     "data": {
      "text/plain": [
       "['m',\n",
       " 'a',\n",
       " 'r',\n",
       " 'i',\n",
       " 'c',\n",
       " 'h',\n",
       " 'e',\n",
       " 't',\n",
       " 't',\n",
       " 'u',\n",
       " '1',\n",
       " '2',\n",
       " '3',\n",
       " '_',\n",
       " 'g',\n",
       " 'o',\n",
       " 'r',\n",
       " 'r',\n",
       " 'e',\n",
       " 'g',\n",
       " 'm',\n",
       " 'a',\n",
       " 'i',\n",
       " 'l',\n",
       " 'c',\n",
       " 'o',\n",
       " 'm']"
      ]
     },
     "execution_count": 12,
     "metadata": {},
     "output_type": "execute_result"
    }
   ],
   "source": [
    "re.findall('\\w','marichettu123_gorre@gmail.com')"
   ]
  },
  {
   "cell_type": "markdown",
   "metadata": {},
   "source": [
    "# Mobile patterns"
   ]
  },
  {
   "cell_type": "code",
   "execution_count": 14,
   "metadata": {},
   "outputs": [
    {
     "data": {
      "text/plain": [
       "<re.Match object; span=(0, 10), match='7382590269'>"
      ]
     },
     "execution_count": 14,
     "metadata": {},
     "output_type": "execute_result"
    }
   ],
   "source": [
    "re.search('^[6-9][0-9]{9}|[0][6-9][0-9]{10}|[+][9][1][6-9][0-9]{9}$','7382590269')"
   ]
  },
  {
   "cell_type": "markdown",
   "metadata": {},
   "source": [
    "# Mail pattern"
   ]
  },
  {
   "cell_type": "code",
   "execution_count": null,
   "metadata": {},
   "outputs": [],
   "source": [
    "re.search('^[A-Za-z.][]')"
   ]
  },
  {
   "cell_type": "code",
   "execution_count": null,
   "metadata": {},
   "outputs": [],
   "source": []
  },
  {
   "cell_type": "code",
   "execution_count": null,
   "metadata": {},
   "outputs": [],
   "source": []
  },
  {
   "cell_type": "code",
   "execution_count": null,
   "metadata": {},
   "outputs": [],
   "source": []
  },
  {
   "cell_type": "code",
   "execution_count": null,
   "metadata": {},
   "outputs": [],
   "source": []
  },
  {
   "cell_type": "code",
   "execution_count": null,
   "metadata": {},
   "outputs": [],
   "source": []
  },
  {
   "cell_type": "code",
   "execution_count": null,
   "metadata": {},
   "outputs": [],
   "source": []
  },
  {
   "cell_type": "code",
   "execution_count": null,
   "metadata": {},
   "outputs": [],
   "source": []
  },
  {
   "cell_type": "code",
   "execution_count": null,
   "metadata": {},
   "outputs": [],
   "source": []
  }
 ],
 "metadata": {
  "kernelspec": {
   "display_name": "Python 3",
   "language": "python",
   "name": "python3"
  },
  "language_info": {
   "codemirror_mode": {
    "name": "ipython",
    "version": 3
   },
   "file_extension": ".py",
   "mimetype": "text/x-python",
   "name": "python",
   "nbconvert_exporter": "python",
   "pygments_lexer": "ipython3",
   "version": "3.8.5"
  }
 },
 "nbformat": 4,
 "nbformat_minor": 4
}
